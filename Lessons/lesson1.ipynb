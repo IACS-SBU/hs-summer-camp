{
 "cells": [
  {
   "cell_type": "markdown",
   "metadata": {},
   "source": [
    "http://hetland.org/writing/instant-hacking.html"
   ]
  },
  {
   "cell_type": "markdown",
   "metadata": {},
   "source": [
    "## Program - List of Instructions"
   ]
  },
  {
   "cell_type": "markdown",
   "metadata": {},
   "source": [
    "###### What is a program? A program is simply a list of instructions. It's very similar to an ordinary recipe."
   ]
  },
  {
   "cell_type": "markdown",
   "metadata": {},
   "source": [
    "Fiesta SPAM Salad\n",
    "\n",
    "Ingredients:\n",
    "\n",
    "Marinade:\n",
    "1/4 cup lime juice\n",
    "1/4 cup low-sodium soy sauce\n",
    "1/4 cup water\n",
    "1 tablespoon vegetable oil\n",
    "3/4 teaspoon cumin\n",
    "1/2 teaspoon oregano\n",
    "1/4 teaspoon hot pepper sauce\n",
    "2 cloves garlic, minced\n",
    "\n",
    "Salad:\n",
    "1 (12-ounce) can SPAM Less Sodium luncheon meat, cut into strips\n",
    "1 onion, sliced\n",
    "1 bell pepper, cut in strips\n",
    "Lettuce\n",
    "12 cherry tomatoes, halved\n",
    "\n",
    "Instructions:\n",
    "\n",
    "In jar with tight-fitting lid, combine all marinade ingredients;\n",
    "shake well. Place SPAM strips in plastic bag. Pour marinade\n",
    "over SPAM. Seal bag; marinate 30 minutes in refrigerator.\n",
    "Remove SPAM from bag; reserve 2 tablespoons marinade. Heat\n",
    "reserved marinade in large skillet. Add SPAM, onion, and\n",
    "green pepper. Cook 3 to 4 minutes or until SPAM is heated.\n",
    "Line 4 individual salad plates with lettuce. Spoon hot salad\n",
    "mixture over lettuce. Garnish with tomato halves. Serves 4."
   ]
  },
  {
   "cell_type": "markdown",
   "metadata": {},
   "source": [
    "###### Computer executes a set of instructions in a particular language  "
   ]
  },
  {
   "cell_type": "markdown",
   "metadata": {},
   "source": [
    "###### People speak using a high-level language like English or Spanish"
   ]
  },
  {
   "cell_type": "markdown",
   "metadata": {},
   "source": [
    "###### What do we use if we don't understand the language that somebody is speaking? We use an interpreter or a translator. The interpreter will convert the speakers' language into the native language of the listener. This is the role of the Python interpreter. "
   ]
  },
  {
   "cell_type": "code",
   "execution_count": 2,
   "metadata": {
    "collapsed": false
   },
   "outputs": [
    {
     "name": "stdout",
     "output_type": "stream",
     "text": [
      "Hello, World!\n"
     ]
    }
   ],
   "source": [
    "# The hello world program\n",
    "print \"Hello, World!\""
   ]
  },
  {
   "cell_type": "markdown",
   "metadata": {},
   "source": [
    "This code uses language that the Python interpreter understands (print), and using this language we can tell the computer to print the sentence \"Hello, World!\" To tell the computer to issue multiple statements, we do this multiple times."
   ]
  },
  {
   "cell_type": "code",
   "execution_count": 3,
   "metadata": {
    "collapsed": false
   },
   "outputs": [
    {
     "name": "stdout",
     "output_type": "stream",
     "text": [
      "Hello, World!\n",
      "Goodbye, for now!\n"
     ]
    }
   ],
   "source": [
    "# Beginning of the conversation\n",
    "print \"Hello, World!\"\n",
    "# End of the conversation\n",
    "print \"Goodbye, for now!\""
   ]
  },
  {
   "cell_type": "markdown",
   "metadata": {},
   "source": [
    "Talk about comments ####"
   ]
  },
  {
   "cell_type": "markdown",
   "metadata": {},
   "source": [
    "Area of the circle -- The ingredients are the length and the width. The instruction is the formula that area = length * width ('*' usually means multiplication in a programming language)."
   ]
  },
  {
   "cell_type": "code",
   "execution_count": 9,
   "metadata": {
    "collapsed": false
   },
   "outputs": [
    {
     "name": "stdout",
     "output_type": "stream",
     "text": [
      "The area of a rectangle with length 4 and width 5 is 20\n"
     ]
    }
   ],
   "source": [
    "# The ingredients\n",
    "length = 4\n",
    "width = 5\n",
    "\n",
    "# The instructions\n",
    "area = length * width\n",
    "print \"The area of a rectangle with length\", length, \"and width\", width, \"is\", area"
   ]
  },
  {
   "cell_type": "markdown",
   "metadata": {},
   "source": [
    "Discussion about the comments (again), the assignment of length, width as variables, the computation and assignment of the area variable, and finally the printing. \n"
   ]
  },
  {
   "cell_type": "markdown",
   "metadata": {},
   "source": [
    "Go through this very slowly -- step by step. What is every line doing?"
   ]
  },
  {
   "cell_type": "markdown",
   "metadata": {},
   "source": [
    "###### What if we change the width?"
   ]
  },
  {
   "cell_type": "code",
   "execution_count": 10,
   "metadata": {
    "collapsed": false
   },
   "outputs": [
    {
     "name": "stdout",
     "output_type": "stream",
     "text": [
      "The area of a rectangle with length 4 and width 6 is 20\n"
     ]
    }
   ],
   "source": [
    "width = 6\n",
    "print \"The area of a rectangle with length\", length, \"and width\", width, \"is\", area"
   ]
  },
  {
   "cell_type": "markdown",
   "metadata": {},
   "source": [
    "###### The area is still 20. Why?"
   ]
  },
  {
   "cell_type": "markdown",
   "metadata": {},
   "source": [
    "We need to execute the area instruction again."
   ]
  },
  {
   "cell_type": "code",
   "execution_count": 11,
   "metadata": {
    "collapsed": false
   },
   "outputs": [
    {
     "name": "stdout",
     "output_type": "stream",
     "text": [
      "The area of a rectangle with length 4 and width 6 is 24\n"
     ]
    }
   ],
   "source": [
    "area = length * width\n",
    "print \"The area of a rectangle with length\", length, \"and width\", width, \"is\", area"
   ]
  },
  {
   "cell_type": "markdown",
   "metadata": {},
   "source": [
    "###### Much better!"
   ]
  },
  {
   "cell_type": "markdown",
   "metadata": {},
   "source": [
    "## Arithmetic in Python"
   ]
  },
  {
   "cell_type": "markdown",
   "metadata": {},
   "source": [
    "As you have already seen, we can do simple arithmetic with Python. "
   ]
  },
  {
   "cell_type": "code",
   "execution_count": 12,
   "metadata": {
    "collapsed": false
   },
   "outputs": [
    {
     "data": {
      "text/plain": [
       "4"
      ]
     },
     "execution_count": 12,
     "metadata": {},
     "output_type": "execute_result"
    }
   ],
   "source": [
    "# simple addition\n",
    "2 + 2\n"
   ]
  },
  {
   "cell_type": "code",
   "execution_count": 15,
   "metadata": {
    "collapsed": false
   },
   "outputs": [
    {
     "data": {
      "text/plain": [
       "20"
      ]
     },
     "execution_count": 15,
     "metadata": {},
     "output_type": "execute_result"
    }
   ],
   "source": [
    "50 - 5*6"
   ]
  },
  {
   "cell_type": "code",
   "execution_count": 14,
   "metadata": {
    "collapsed": false
   },
   "outputs": [
    {
     "data": {
      "text/plain": [
       "5.0"
      ]
     },
     "execution_count": 14,
     "metadata": {},
     "output_type": "execute_result"
    }
   ],
   "source": [
    "(50 - 5.0*6)/4"
   ]
  },
  {
   "cell_type": "code",
   "execution_count": 16,
   "metadata": {
    "collapsed": false
   },
   "outputs": [
    {
     "data": {
      "text/plain": [
       "1.6"
      ]
     },
     "execution_count": 16,
     "metadata": {},
     "output_type": "execute_result"
    }
   ],
   "source": [
    "8 / 5.0"
   ]
  },
  {
   "cell_type": "markdown",
   "metadata": {},
   "source": [
    "Integer numbers like (2,4,8) have the type int. The ones where we include the decimal (5.0) are of type float. This distinction will matter when we do operations like division (/)"
   ]
  },
  {
   "cell_type": "code",
   "execution_count": 17,
   "metadata": {
    "collapsed": false
   },
   "outputs": [
    {
     "data": {
      "text/plain": [
       "5"
      ]
     },
     "execution_count": 17,
     "metadata": {},
     "output_type": "execute_result"
    }
   ],
   "source": [
    "17 / 3 #int / int -> int"
   ]
  },
  {
   "cell_type": "markdown",
   "metadata": {},
   "source": [
    "Here divide the integer 17 by the integer 3, and we get the integer 5 because with integer division, Python takes the floor value of the result. What if we change the values to float?"
   ]
  },
  {
   "cell_type": "code",
   "execution_count": 18,
   "metadata": {
    "collapsed": false
   },
   "outputs": [
    {
     "data": {
      "text/plain": [
       "5.666666666666667"
      ]
     },
     "execution_count": 18,
     "metadata": {},
     "output_type": "execute_result"
    }
   ],
   "source": [
    "17.0 / 3.0 #float / float -> float"
   ]
  },
  {
   "cell_type": "markdown",
   "metadata": {},
   "source": [
    "Here in this case, we see the expected result (5.6666666666667). If we want to force Python to discard the fractional values (even with floats) we can use the // operator."
   ]
  },
  {
   "cell_type": "code",
   "execution_count": 19,
   "metadata": {
    "collapsed": false
   },
   "outputs": [
    {
     "data": {
      "text/plain": [
       "5.0"
      ]
     },
     "execution_count": 19,
     "metadata": {},
     "output_type": "execute_result"
    }
   ],
   "source": [
    "17.0 // 3.0"
   ]
  },
  {
   "cell_type": "markdown",
   "metadata": {},
   "source": [
    "We also have other Python arithmetic operators. We the modulo operator that gives us the remainder of an integer division."
   ]
  },
  {
   "cell_type": "code",
   "execution_count": 20,
   "metadata": {
    "collapsed": false
   },
   "outputs": [
    {
     "data": {
      "text/plain": [
       "2"
      ]
     },
     "execution_count": 20,
     "metadata": {},
     "output_type": "execute_result"
    }
   ],
   "source": [
    "17 % 3 # remainder of integer division"
   ]
  },
  {
   "cell_type": "markdown",
   "metadata": {},
   "source": [
    "Exponentiation"
   ]
  },
  {
   "cell_type": "code",
   "execution_count": 22,
   "metadata": {
    "collapsed": false
   },
   "outputs": [
    {
     "data": {
      "text/plain": [
       "64"
      ]
     },
     "execution_count": 22,
     "metadata": {},
     "output_type": "execute_result"
    }
   ],
   "source": [
    "4 ** 3 # 4 raised to the 3rd power"
   ]
  },
  {
   "cell_type": "markdown",
   "metadata": {},
   "source": [
    "## Strings in Python"
   ]
  },
  {
   "cell_type": "markdown",
   "metadata": {},
   "source": [
    "Strings in Python can be declared either using single quotes ('Hello') or double quotes (\"Hello\"). "
   ]
  },
  {
   "cell_type": "code",
   "execution_count": 24,
   "metadata": {
    "collapsed": false
   },
   "outputs": [
    {
     "data": {
      "text/plain": [
       "'Hello, World!'"
      ]
     },
     "execution_count": 24,
     "metadata": {},
     "output_type": "execute_result"
    }
   ],
   "source": [
    "\"Hello, World!\" # string declared with double quotes"
   ]
  },
  {
   "cell_type": "code",
   "execution_count": 25,
   "metadata": {
    "collapsed": false
   },
   "outputs": [
    {
     "data": {
      "text/plain": [
       "'Hello, World!'"
      ]
     },
     "execution_count": 25,
     "metadata": {},
     "output_type": "execute_result"
    }
   ],
   "source": [
    "'Hello, World!' # string declard with single quotes"
   ]
  },
  {
   "cell_type": "markdown",
   "metadata": {},
   "source": [
    "Sometimes when using single quotes, we need to use backslash (or the escape character) to include a single quote in the string."
   ]
  },
  {
   "cell_type": "code",
   "execution_count": 32,
   "metadata": {
    "collapsed": false
   },
   "outputs": [
    {
     "data": {
      "text/plain": [
       "\"I don't like double quotes.\""
      ]
     },
     "execution_count": 32,
     "metadata": {},
     "output_type": "execute_result"
    }
   ],
   "source": [
    "'I don\\'t like double quotes.' # needed to using the escape character (\\) when using single quote in literal"
   ]
  },
  {
   "cell_type": "code",
   "execution_count": 31,
   "metadata": {
    "collapsed": false
   },
   "outputs": [
    {
     "data": {
      "text/plain": [
       "\"I don't like single quotes.\""
      ]
     },
     "execution_count": 31,
     "metadata": {},
     "output_type": "execute_result"
    }
   ],
   "source": [
    "\"I don't like single quotes.\" # don't need to use the escape character (\\)"
   ]
  },
  {
   "cell_type": "code",
   "execution_count": 33,
   "metadata": {
    "collapsed": false
   },
   "outputs": [
    {
     "data": {
      "text/plain": [
       "\"Charlene, whin yew gunna git c'here 'n cleen yur'room\""
      ]
     },
     "execution_count": 33,
     "metadata": {},
     "output_type": "execute_result"
    }
   ],
   "source": [
    "\"Charlene, whin yew gunna git c'here 'n cleen yur'room\""
   ]
  },
  {
   "cell_type": "code",
   "execution_count": 34,
   "metadata": {
    "collapsed": false
   },
   "outputs": [
    {
     "data": {
      "text/plain": [
       "\"I a'int gunna, Cindy Lou\""
      ]
     },
     "execution_count": 34,
     "metadata": {},
     "output_type": "execute_result"
    }
   ],
   "source": [
    "'I a\\'int gunna, Cindy Lou'"
   ]
  },
  {
   "cell_type": "markdown",
   "metadata": {},
   "source": [
    "A note about using escape sequence (\\\\). If you need to the backslash character in your string literal (AND NOT as an ESCAPE SEQUENCE), then you have two choices:"
   ]
  },
  {
   "cell_type": "code",
   "execution_count": 43,
   "metadata": {
    "collapsed": false
   },
   "outputs": [
    {
     "name": "stdout",
     "output_type": "stream",
     "text": [
      "C:\\Home\n",
      "ancysmith\n"
     ]
    }
   ],
   "source": [
    "print 'C:\\Home\\nancysmith'"
   ]
  },
  {
   "cell_type": "code",
   "execution_count": null,
   "metadata": {
    "collapsed": false
   },
   "outputs": [],
   "source": []
  }
 ],
 "metadata": {
  "kernelspec": {
   "display_name": "Python 2",
   "language": "python",
   "name": "python2"
  },
  "language_info": {
   "codemirror_mode": {
    "name": "ipython",
    "version": 2
   },
   "file_extension": ".py",
   "mimetype": "text/x-python",
   "name": "python",
   "nbconvert_exporter": "python",
   "pygments_lexer": "ipython2",
   "version": "2.7.10"
  }
 },
 "nbformat": 4,
 "nbformat_minor": 0
}
